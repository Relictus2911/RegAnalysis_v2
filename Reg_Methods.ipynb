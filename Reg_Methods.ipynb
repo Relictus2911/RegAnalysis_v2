{
  "cells": [
    {
      "cell_type": "code",
      "execution_count": 1,
      "metadata": {
        "collapsed": true,
        "pycharm": {
          "is_executing": false
        }
      },
      "outputs": [],
      "source": "import re\nfrom warnings import simplefilter\n\nimport pandas as pd\nimport pymorphy2\nfrom nltk.corpus import stopwords\nfrom pandas import DataFrame, read_csv, np\nfrom sklearn.ensemble import RandomForestRegressor\nfrom sklearn.feature_extraction.text import TfidfVectorizer\nfrom sklearn.linear_model import LinearRegression\nfrom sklearn.metrics import r2_score\nfrom sklearn.model_selection import train_test_split\nfrom sklearn.neighbors import KNeighborsRegressor\nfrom sklearn.svm import SVR\n\npd.set_option(\u0027display.max_columns\u0027, 400)\nsimplefilter(action\u003d\u0027ignore\u0027, category\u003dFutureWarning)\nmorph \u003d pymorphy2.MorphAnalyzer()\nstops \u003d set(stopwords.words(\"english\")) | set(stopwords.words(\"russian\"))"
    },
    {
      "cell_type": "code",
      "execution_count": 7,
      "outputs": [],
      "source": "#Regression Analysis\ndef reg_methods(models, dataset): # Построение регрессионных моделей\n    trg \u003d dataset[[\u0027likes\u0027]]\n    trn \u003d dataset.drop([\u0027likes\u0027], axis\u003d1)\n    x_trn, x_test, y_trn, y_test \u003d train_test_split(trn, trg, test_size\u003d0.4)\n    test_models \u003d DataFrame()\n    tmp \u003d {}\n    for model in models:\n        m \u003d str(model)\n        tmp[\u0027Model\u0027] \u003d m[:m.index(\u0027(\u0027)]\n        model.fit(list(x_trn.iloc[:,0]),list(y_trn.iloc[:,0]))\n        tmp[\u0027Reg\u0027] \u003d r2_score(model.predict(list(x_test.iloc[:,0])),list(y_test.iloc[:,0]))\n        print(tmp[\u0027Reg\u0027])\n        test_models \u003d test_models.append([tmp], sort\u003dTrue)\n        if m.__contains__(\u0027RandomForestRegressor\u0027):\n            get_key(vectorizer.vocabulary_,2940)\n            importances \u003d model.feature_importances_\n            std \u003d np.std([tree.feature_importances_ for tree in model.estimators_],\n             axis\u003d0)\n            indices \u003d np.argsort(importances)[::-1]\n            print(\"Feature ranking:\")\n            i\u003d0            \n            for f in range(len(importances)):\n                if i\u003d\u003d10:\n                    break\n                print(\"%d. feature %s (%f)\" % (f + 1, get_key(vectorizer.vocabulary_,[indices[f]]), importances[indices[f]]))\n                i+\u003d1\n    test_models.set_index(\u0027Model\u0027, inplace\u003dTrue, )\n    #paint_reg_methods(test_models)\n\n#get words\ndef get_key(d, value):\n    for k, v in d.items():\n        if v \u003d\u003d value:\n            return k\n\n#normalize words\ndef normalize(text):\n    # remove evrything except letters\n    new_text \u003d re.sub(\"[^а-яА-Яa-zA-Z]\", \" \", text)\n    # lower case\n    words \u003d new_text.lower().split()\n    # remove stop words\n    words \u003d [w for w in words if not w in stops]\n    # normal form\n    words \u003d [morph.parse(w)[0].normal_form for w in words]\n    return (words)\n",
      "metadata": {
        "pycharm": {
          "metadata": false,
          "name": "#%%\n",
          "is_executing": false
        }
      }
    },
    {
      "cell_type": "code",
      "execution_count": 3,
      "outputs": [],
      "source": "#Read dataset\ndataset \u003d read_csv(\u0027test2.tsv\u0027,sep \u003d\u0027\\t\u0027,error_bad_lines\u003dFalse)\ntest \u003d []\ndata \u003d DataFrame(dataset, columns\u003d[\u0027likes\u0027, \u0027coms\u0027, \u0027favs\u0027, \u0027size\u0027, \u0027text\u0027])",
      "metadata": {
        "pycharm": {
          "metadata": false,
          "name": "#%%\n",
          "is_executing": false
        }
      }
    },
    {
      "cell_type": "code",
      "execution_count": 4,
      "outputs": [],
      "source": "#prepare data\nres\u003d[]\nfor item in data[\u0027text\u0027]:\n    res.append(normalize(item))\ndata[\u0027test\u0027]\u003dres\nvectorizer \u003d TfidfVectorizer(tokenizer\u003dlambda doc: doc,lowercase\u003dFalse)\nX \u003d vectorizer.fit(data[\u0027test\u0027])\nresult\u003d[]\nfor item in data[\u0027test\u0027]:\n    Y\u003dvectorizer.transform(item)\n    result.append(Y.indices)\ndata[\u0027vector\u0027]\u003dresult\ndel data[\u0027text\u0027], data[\u0027coms\u0027], data[\u0027favs\u0027], data[\u0027size\u0027], data[\u0027test\u0027]\nmax \u003d 0\nnew_vectors \u003d []\nfor item in data[\u0027vector\u0027]:\n    if len(item) \u003e max:\n        max \u003d len(item)\nfor item in data[\u0027vector\u0027]:\n    if len(item) \u003c\u003d max:\n        while len(item)!\u003d max:\n            item \u003d np.append(item, -1)\n        new_vectors.append(item)\ndata[\u0027new_vector\u0027] \u003d new_vectors\ndel data[\u0027vector\u0027]",
      "metadata": {
        "pycharm": {
          "metadata": false,
          "name": "#%%\n",
          "is_executing": false
        }
      }
    },
    {
      "cell_type": "code",
      "execution_count": 8,
      "outputs": [
        {
          "name": "stdout",
          "text": [
            "-0.008584602326946023\n",
            "-2.7628225715236594\n",
            "0.011685977198964692\n",
            "-4.798437912017825\nFeature ranking:\n1. feature adventure (0.005981)\n",
            "2. feature amc (0.004579)\n3. feature analog (0.004298)\n4. feature action (0.003819)\n",
            "5. feature accuses (0.003658)\n6. feature animemap (0.003484)\n7. feature accessibility (0.003462)\n",
            "8. feature angela (0.003458)\n9. feature adaptation (0.003410)",
            "\n10. feature angelo (0.003280)\n"
          ],
          "output_type": "stream"
        },
        {
          "name": "stderr",
          "text": [
            "c:\\users\\admin\\pycharmprojects\\reg_analysis_v2\\venv\\lib\\site-packages\\sklearn\\svm\\base.py:241: ConvergenceWarning: Solver terminated early (max_iter\u003d100000).  Consider pre-processing your data with StandardScaler or MinMaxScaler.\n  % self.max_iter, ConvergenceWarning)\n"
          ],
          "output_type": "stream"
        }
      ],
      "source": "#main\nmodels \u003d [LinearRegression(),  # метод наименьших квадратов          \n          KNeighborsRegressor(n_neighbors\u003d6),  # метод ближайших соседей\n          SVR(kernel\u003d\u0027linear\u0027, max_iter\u003d100000), # метод опорных векторов с линейным ядром\n          RandomForestRegressor(n_estimators\u003d100, max_features\u003d\u0027sqrt\u0027) # случайный лес\n          ] #Regression Models\nreg_methods(models,data)",
      "metadata": {
        "pycharm": {
          "metadata": false,
          "name": "#%%\n",
          "is_executing": false
        }
      }
    }
  ],
  "metadata": {
    "language_info": {
      "codemirror_mode": {
        "name": "ipython",
        "version": 2
      },
      "file_extension": ".py",
      "mimetype": "text/x-python",
      "name": "python",
      "nbconvert_exporter": "python",
      "pygments_lexer": "ipython2",
      "version": "2.7.6"
    },
    "kernelspec": {
      "name": "python3",
      "language": "python",
      "display_name": "Python 3"
    }
  },
  "nbformat": 4,
  "nbformat_minor": 0
}